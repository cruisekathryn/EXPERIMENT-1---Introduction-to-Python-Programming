{
 "cells": [
  {
   "cell_type": "markdown",
   "id": "d998b4a7-4f06-4517-961c-1dc455d3fd8b",
   "metadata": {},
   "source": [
    "# **Python Experiment 1**"
   ]
  },
  {
   "cell_type": "markdown",
   "id": "0a29993e-6e87-4f45-b3a9-eef385e9fc93",
   "metadata": {
    "jp-MarkdownHeadingCollapsed": true
   },
   "source": [
    "#### ==========================================================================\n",
    "#### Name: **Kathryn Angel S. Cruz**\n",
    "#### Section: **2ECE-A**\n",
    "#### =========================================================================="
   ]
  },
  {
   "cell_type": "markdown",
   "id": "7bf65e56-69e5-4041-ace1-8ee774b05551",
   "metadata": {},
   "source": [
    "### **PROBLEM 1: ALPHABET SOUP PROBLEM**\n",
    "Create a function that takes a string and returns a string with its letters in alphabetical order."
   ]
  },
  {
   "cell_type": "code",
   "execution_count": 1,
   "id": "63f072a6-20f6-4dac-9c48-69806ba097e5",
   "metadata": {},
   "outputs": [
    {
     "name": "stdin",
     "output_type": "stream",
     "text": [
      "Please enter a word to be arranged in alphabetical order:  zxzcvbnmasdfghjklqwertyuiop\n"
     ]
    },
    {
     "name": "stdout",
     "output_type": "stream",
     "text": [
      "abcdefghijklmnopqrstuvwxyzz\n"
     ]
    }
   ],
   "source": [
    "# Create a function called \"alphabet_soup\"\n",
    "def alphabet_soup(input_word):\n",
    "    \n",
    "    # Convert string to a list, sort the list, and join it back to string\n",
    "    soup_word = ''.join(sorted(input_word))\n",
    "    \n",
    "    # Print the new sorted word\n",
    "    print(soup_word)\n",
    "\n",
    "# User-input in the variable input_word\n",
    "input_word = input(\"Please enter a word to be arranged in alphabetical order: \")\n",
    "\n",
    "# Prints the result to see the output\n",
    "alphabet_soup(input_word)"
   ]
  },
  {
   "cell_type": "markdown",
   "id": "228222ef-889e-4cb4-b51d-8d348d7d4d67",
   "metadata": {},
   "source": [
    "### **PROBLEM 2: EMOTICON PROBLEM**\n",
    "Create a function that changes specific words into emoticons. Given a sentence as a string, replace the words smile, grin, sad and mad with their corresponding emoticon:"
   ]
  },
  {
   "cell_type": "code",
   "execution_count": 3,
   "id": "a6dc5370-b3b2-45ee-b925-b2115a4658b2",
   "metadata": {},
   "outputs": [
    {
     "name": "stdin",
     "output_type": "stream",
     "text": [
      "How are you feeling?  You make me smile.\n"
     ]
    },
    {
     "name": "stdout",
     "output_type": "stream",
     "text": [
      "You make me :).\n"
     ]
    }
   ],
   "source": [
    "# Create a function called \"emotify\"\n",
    "def emotify(feeling):\n",
    "\n",
    "    #The following words will be replaced into emoticons\n",
    "    word = feeling.replace(\"smile\", \":)\")\n",
    "    word = word.replace(\"grin\", \":D\")\n",
    "    word = word.replace(\"sad\", \":((\")\n",
    "    word = word.replace(\"mad\", \">:(\")\n",
    "    \n",
    "    # Returns the emoticon\n",
    "    print(word)\n",
    "\n",
    "# User-input in the variable \"emotification\"\n",
    "emotification = input(\"How are you feeling? \")\n",
    "\n",
    "# Initializes the emotification within the emotify function\n",
    "emotify(emotification)"
   ]
  },
  {
   "cell_type": "markdown",
   "id": "db0133f3-89ef-40fa-a24d-bbb9541bd3d7",
   "metadata": {},
   "source": [
    "### **PROBLEM 3: UNPACKING LIST PROBLEM**\n",
    "Unpack the list writeyourcodehere into three variables, being first,\r\n",
    "middle, and last, with middle being everything in between the first and last element. Then print all three\r\n",
    "variables."
   ]
  },
  {
   "cell_type": "code",
   "execution_count": 5,
   "id": "bae48f2d-9a55-449e-b5c0-977a712bb8c7",
   "metadata": {},
   "outputs": [
    {
     "name": "stdout",
     "output_type": "stream",
     "text": [
      "Variable first contains:  1 \n",
      "Variable middle contains:  [2, 3, 4, 5] \n",
      "Variable last contains:  6\n"
     ]
    }
   ],
   "source": [
    "# Create a list of numbers called \"writeyourcodehere\"\n",
    "writeyourcodehere = [1,2,3,4,5,6]\n",
    "\n",
    "# The variable \"first\" will have the number stored in the index 0 of the list \"writeyourcodehere\"\n",
    "first = writeyourcodehere[0]\n",
    "\n",
    "# The variable \"middle\" will have all the number stored in except index 1 and -1 of the list \"writeyourcodehere\"\n",
    "middle = writeyourcodehere[1:-1]\n",
    "\n",
    "# The variable \"last\" will have the number stored in the index -1 of the list \"writeyourcodehere\"\n",
    "last = writeyourcodehere[-1]\n",
    "\n",
    "# This will print the variable with its corresponding values\n",
    "print(\"Variable first contains: \",  first, \"\\nVariable middle contains: \", middle, \"\\nVariable last contains: \", last)"
   ]
  }
 ],
 "metadata": {
  "kernelspec": {
   "display_name": "Python 3 (ipykernel)",
   "language": "python",
   "name": "python3"
  },
  "language_info": {
   "codemirror_mode": {
    "name": "ipython",
    "version": 3
   },
   "file_extension": ".py",
   "mimetype": "text/x-python",
   "name": "python",
   "nbconvert_exporter": "python",
   "pygments_lexer": "ipython3",
   "version": "3.12.4"
  }
 },
 "nbformat": 4,
 "nbformat_minor": 5
}
